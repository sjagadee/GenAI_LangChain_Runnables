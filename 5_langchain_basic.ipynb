{
 "cells": [
  {
   "cell_type": "markdown",
   "id": "cd746d19",
   "metadata": {},
   "source": [
    "### Here we are going to create and mimic the langchain, to understand how chains work"
   ]
  },
  {
   "cell_type": "code",
   "execution_count": 1,
   "id": "2dad5aa7",
   "metadata": {},
   "outputs": [],
   "source": [
    "import random\n",
    "\n",
    "class DummyLLM:\n",
    "    def __init__(self):\n",
    "        print(\"LLM initialized\")\n",
    "    \n",
    "    def predict(self, prompt):\n",
    "        \n",
    "        response_list = [\n",
    "            \"Delhi is the capital of India\",\n",
    "            \"IPL is a poppular league in India\",\n",
    "            \"AI stands for Artificial Intelligence\"\n",
    "        ]\n",
    "        return {'response': random.choice(response_list)}"
   ]
  },
  {
   "cell_type": "code",
   "execution_count": 2,
   "id": "c600b2ea",
   "metadata": {},
   "outputs": [],
   "source": [
    "class DummyPromptTemplate:\n",
    "\n",
    "    def __init__(self, template, input_variables):\n",
    "        self.template = template\n",
    "        self.input_variables = input_variables\n",
    "\n",
    "    def format(self, input_dict):\n",
    "        return self.template.format(**input_dict)"
   ]
  },
  {
   "cell_type": "markdown",
   "id": "f1d0fb5b",
   "metadata": {},
   "source": [
    "### Let's say we need to build an LLM based application using the above classes provided"
   ]
  },
  {
   "cell_type": "code",
   "execution_count": 3,
   "id": "72615c05",
   "metadata": {},
   "outputs": [],
   "source": [
    "# first create a template and input variables\n",
    "\n",
    "template = DummyPromptTemplate(\n",
    "    template=\"Write a {length} poem about {topic}\",\n",
    "    input_variables=[\"length\", \"topic\"]\n",
    ")"
   ]
  },
  {
   "cell_type": "code",
   "execution_count": null,
   "id": "90be2ce4",
   "metadata": {},
   "outputs": [
    {
     "name": "stdout",
     "output_type": "stream",
     "text": [
      "Write a short poem about AI\n"
     ]
    }
   ],
   "source": [
    "# format the prompt with input variables and the template\n",
    "\n",
    "prompt = template.format({'topic': 'AI', 'length': 'short'})\n",
    "print(prompt)"
   ]
  },
  {
   "cell_type": "code",
   "execution_count": 5,
   "id": "1cc9a21e",
   "metadata": {},
   "outputs": [
    {
     "name": "stdout",
     "output_type": "stream",
     "text": [
      "LLM initialized\n",
      "{'response': 'Delhi is the capital of India'}\n"
     ]
    }
   ],
   "source": [
    "# initialize the LLM\n",
    "\n",
    "llm = DummyLLM()\n",
    "response = llm.predict(prompt)\n",
    "print(response)"
   ]
  },
  {
   "cell_type": "markdown",
   "id": "a5aa00b3",
   "metadata": {},
   "source": [
    "### Now as we see that we have a Dummy LLM that can predict if requested with some prompt.\n",
    "\n",
    "- Now let us see, how to combine these two components and form a dummy chain"
   ]
  },
  {
   "cell_type": "code",
   "execution_count": 17,
   "id": "65f99957",
   "metadata": {},
   "outputs": [],
   "source": [
    "class DummyChain:\n",
    "\n",
    "    def __init__(self, llm, prompt):\n",
    "        self.llm = llm\n",
    "        self.prompt = prompt\n",
    "\n",
    "    def run(self, input_dict):\n",
    "        prompt = self.prompt.format(input_dict)\n",
    "        result = self.llm.predict(prompt)\n",
    "        return result['response']"
   ]
  },
  {
   "cell_type": "code",
   "execution_count": 18,
   "id": "942adebc",
   "metadata": {},
   "outputs": [],
   "source": [
    "template_new = DummyPromptTemplate(\n",
    "    template=\"Write a {length} poem about {topic}\",\n",
    "    input_variables=[\"length\", \"topic\"]\n",
    ")"
   ]
  },
  {
   "cell_type": "code",
   "execution_count": 19,
   "id": "9dc7114f",
   "metadata": {},
   "outputs": [
    {
     "name": "stdout",
     "output_type": "stream",
     "text": [
      "LLM initialized\n"
     ]
    }
   ],
   "source": [
    "llm = DummyLLM()"
   ]
  },
  {
   "cell_type": "code",
   "execution_count": 20,
   "id": "329a8c4c",
   "metadata": {},
   "outputs": [],
   "source": [
    "chain = DummyChain(llm, template_new)\n"
   ]
  },
  {
   "cell_type": "code",
   "execution_count": 21,
   "id": "35068e5b",
   "metadata": {},
   "outputs": [
    {
     "data": {
      "text/plain": [
       "'IPL is a poppular league in India'"
      ]
     },
     "execution_count": 21,
     "metadata": {},
     "output_type": "execute_result"
    }
   ],
   "source": [
    "chain.run({'topic': 'AI', 'length': 'short'})"
   ]
  },
  {
   "cell_type": "markdown",
   "id": "37b2b8f7",
   "metadata": {},
   "source": [
    "### Here are the problems with this chain creation strategy\n",
    "\n",
    "- If we see the code structure is not standardized and rigid\n",
    "- if we need to create different chain structure, we need to change the format of the class.\n",
    "    - Standardize them to follow similar structure\n",
    "    - Then chain creation would become flexible"
   ]
  }
 ],
 "metadata": {
  "kernelspec": {
   "display_name": "for_genai",
   "language": "python",
   "name": "python3"
  },
  "language_info": {
   "codemirror_mode": {
    "name": "ipython",
    "version": 3
   },
   "file_extension": ".py",
   "mimetype": "text/x-python",
   "name": "python",
   "nbconvert_exporter": "python",
   "pygments_lexer": "ipython3",
   "version": "3.12.12"
  }
 },
 "nbformat": 4,
 "nbformat_minor": 5
}
